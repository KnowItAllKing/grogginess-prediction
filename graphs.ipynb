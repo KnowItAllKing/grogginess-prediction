{
 "cells": [
  {
   "cell_type": "code",
   "execution_count": 9,
   "metadata": {},
   "outputs": [],
   "source": [
    "from train import main\n",
    "from eval import eval\n",
    "import pandas as pd\n",
    "import numpy as np\n",
    "import torch\n",
    "import torch.nn as nn\n",
    "import torch.nn.functional as F\n",
    "import torch.optim as optim\n",
    "from torch.utils.data import TensorDataset, DataLoader\n",
    "import matplotlib.pyplot as plt\n",
    "\n",
    "\n"
   ]
  },
  {
   "cell_type": "code",
   "execution_count": 10,
   "metadata": {},
   "outputs": [],
   "source": [
    "days = {\n",
    "  'Mark': 51,\n",
    "  'Kai': 51,\n",
    "  'Luc Rieffel': 58\n",
    "}"
   ]
  },
  {
   "cell_type": "code",
   "execution_count": 11,
   "metadata": {},
   "outputs": [
    {
     "name": "stdout",
     "output_type": "stream",
     "text": [
      "Processing day 15\n",
      "Epoch 1/4000, Loss: 34.0807\n"
     ]
    },
    {
     "name": "stderr",
     "output_type": "stream",
     "text": [
      "/home/yahiko/code/cs158/grogginess-prediction/train.py:108: FutureWarning: In a future version of pandas, parsing datetimes with mixed time zones will raise an error unless `utc=True`. Please specify `utc=True` to opt in to the new behaviour and silence this warning. To create a `Series` with mixed offsets and `object` dtype, please use `apply` and `datetime.datetime.strptime`\n",
      "  data['date'] = pd.to_datetime(data['ISO8601'], errors='coerce')\n"
     ]
    },
    {
     "name": "stdout",
     "output_type": "stream",
     "text": [
      "Epoch 1001/4000, Loss: 1.6141\n",
      "Epoch 2001/4000, Loss: 1.5186\n",
      "Epoch 3001/4000, Loss: 1.4727\n",
      "Score: 0.0023016929626464844 @ Day 15\n",
      "Processing day 16\n",
      "Epoch 1/4000, Loss: 33.0506\n"
     ]
    },
    {
     "name": "stderr",
     "output_type": "stream",
     "text": [
      "/home/yahiko/code/cs158/grogginess-prediction/train.py:108: FutureWarning: In a future version of pandas, parsing datetimes with mixed time zones will raise an error unless `utc=True`. Please specify `utc=True` to opt in to the new behaviour and silence this warning. To create a `Series` with mixed offsets and `object` dtype, please use `apply` and `datetime.datetime.strptime`\n",
      "  data['date'] = pd.to_datetime(data['ISO8601'], errors='coerce')\n"
     ]
    },
    {
     "name": "stdout",
     "output_type": "stream",
     "text": [
      "Epoch 1001/4000, Loss: 1.8469\n",
      "Epoch 2001/4000, Loss: 1.7898\n",
      "Epoch 3001/4000, Loss: 1.7643\n",
      "Score: 2.071559429168701 @ Day 16\n",
      "Processing day 17\n",
      "Epoch 1/4000, Loss: 35.1187\n"
     ]
    },
    {
     "name": "stderr",
     "output_type": "stream",
     "text": [
      "/home/yahiko/code/cs158/grogginess-prediction/train.py:108: FutureWarning: In a future version of pandas, parsing datetimes with mixed time zones will raise an error unless `utc=True`. Please specify `utc=True` to opt in to the new behaviour and silence this warning. To create a `Series` with mixed offsets and `object` dtype, please use `apply` and `datetime.datetime.strptime`\n",
      "  data['date'] = pd.to_datetime(data['ISO8601'], errors='coerce')\n"
     ]
    },
    {
     "name": "stdout",
     "output_type": "stream",
     "text": [
      "Epoch 1001/4000, Loss: 1.9940\n",
      "Epoch 2001/4000, Loss: 1.9163\n",
      "Epoch 3001/4000, Loss: 1.8886\n",
      "Score: 0.7669363021850586 @ Day 17\n",
      "Processing day 18\n",
      "Epoch 1/4000, Loss: 36.0973\n"
     ]
    },
    {
     "name": "stderr",
     "output_type": "stream",
     "text": [
      "/home/yahiko/code/cs158/grogginess-prediction/train.py:108: FutureWarning: In a future version of pandas, parsing datetimes with mixed time zones will raise an error unless `utc=True`. Please specify `utc=True` to opt in to the new behaviour and silence this warning. To create a `Series` with mixed offsets and `object` dtype, please use `apply` and `datetime.datetime.strptime`\n",
      "  data['date'] = pd.to_datetime(data['ISO8601'], errors='coerce')\n"
     ]
    },
    {
     "name": "stdout",
     "output_type": "stream",
     "text": [
      "Epoch 1001/4000, Loss: 1.9431\n",
      "Epoch 2001/4000, Loss: 1.8527\n",
      "Epoch 3001/4000, Loss: 1.8204\n",
      "Score: 0.696446418762207 @ Day 18\n",
      "Processing day 19\n",
      "Epoch 1/4000, Loss: 36.9717\n"
     ]
    },
    {
     "name": "stderr",
     "output_type": "stream",
     "text": [
      "/home/yahiko/code/cs158/grogginess-prediction/train.py:108: FutureWarning: In a future version of pandas, parsing datetimes with mixed time zones will raise an error unless `utc=True`. Please specify `utc=True` to opt in to the new behaviour and silence this warning. To create a `Series` with mixed offsets and `object` dtype, please use `apply` and `datetime.datetime.strptime`\n",
      "  data['date'] = pd.to_datetime(data['ISO8601'], errors='coerce')\n"
     ]
    },
    {
     "name": "stdout",
     "output_type": "stream",
     "text": [
      "Epoch 1001/4000, Loss: 1.8837\n",
      "Epoch 2001/4000, Loss: 1.7900\n",
      "Epoch 3001/4000, Loss: 1.7573\n",
      "Score: 0.009810924530029297 @ Day 19\n",
      "Processing day 20\n",
      "Epoch 1/4000, Loss: 36.0358\n"
     ]
    },
    {
     "name": "stderr",
     "output_type": "stream",
     "text": [
      "/home/yahiko/code/cs158/grogginess-prediction/train.py:108: FutureWarning: In a future version of pandas, parsing datetimes with mixed time zones will raise an error unless `utc=True`. Please specify `utc=True` to opt in to the new behaviour and silence this warning. To create a `Series` with mixed offsets and `object` dtype, please use `apply` and `datetime.datetime.strptime`\n",
      "  data['date'] = pd.to_datetime(data['ISO8601'], errors='coerce')\n"
     ]
    },
    {
     "name": "stdout",
     "output_type": "stream",
     "text": [
      "Epoch 1001/4000, Loss: 1.8084\n",
      "Epoch 2001/4000, Loss: 1.7131\n",
      "Epoch 3001/4000, Loss: 1.6840\n",
      "Score: 0.8894290924072266 @ Day 20\n",
      "Processing day 21\n",
      "Epoch 1/4000, Loss: 36.1982\n"
     ]
    },
    {
     "name": "stderr",
     "output_type": "stream",
     "text": [
      "/home/yahiko/code/cs158/grogginess-prediction/train.py:108: FutureWarning: In a future version of pandas, parsing datetimes with mixed time zones will raise an error unless `utc=True`. Please specify `utc=True` to opt in to the new behaviour and silence this warning. To create a `Series` with mixed offsets and `object` dtype, please use `apply` and `datetime.datetime.strptime`\n",
      "  data['date'] = pd.to_datetime(data['ISO8601'], errors='coerce')\n"
     ]
    },
    {
     "name": "stdout",
     "output_type": "stream",
     "text": [
      "Epoch 1001/4000, Loss: 1.8393\n",
      "Epoch 2001/4000, Loss: 1.7660\n",
      "Epoch 3001/4000, Loss: 1.7407\n",
      "Score: 0.002471923828125 @ Day 21\n",
      "Processing day 22\n",
      "Epoch 1/4000, Loss: 36.3175\n"
     ]
    },
    {
     "name": "stderr",
     "output_type": "stream",
     "text": [
      "/home/yahiko/code/cs158/grogginess-prediction/train.py:108: FutureWarning: In a future version of pandas, parsing datetimes with mixed time zones will raise an error unless `utc=True`. Please specify `utc=True` to opt in to the new behaviour and silence this warning. To create a `Series` with mixed offsets and `object` dtype, please use `apply` and `datetime.datetime.strptime`\n",
      "  data['date'] = pd.to_datetime(data['ISO8601'], errors='coerce')\n"
     ]
    },
    {
     "name": "stdout",
     "output_type": "stream",
     "text": [
      "Epoch 1001/4000, Loss: 1.7767\n",
      "Epoch 2001/4000, Loss: 1.7098\n",
      "Epoch 3001/4000, Loss: 1.6819\n",
      "Score: 0.008642196655273438 @ Day 22\n",
      "Processing day 23\n",
      "Epoch 1/4000, Loss: 35.2287\n"
     ]
    },
    {
     "name": "stderr",
     "output_type": "stream",
     "text": [
      "/home/yahiko/code/cs158/grogginess-prediction/train.py:108: FutureWarning: In a future version of pandas, parsing datetimes with mixed time zones will raise an error unless `utc=True`. Please specify `utc=True` to opt in to the new behaviour and silence this warning. To create a `Series` with mixed offsets and `object` dtype, please use `apply` and `datetime.datetime.strptime`\n",
      "  data['date'] = pd.to_datetime(data['ISO8601'], errors='coerce')\n"
     ]
    },
    {
     "name": "stdout",
     "output_type": "stream",
     "text": [
      "Epoch 1001/4000, Loss: 1.8220\n",
      "Epoch 2001/4000, Loss: 1.7344\n",
      "Epoch 3001/4000, Loss: 1.6993\n",
      "Score: 0.007052421569824219 @ Day 23\n",
      "Processing day 24\n",
      "Epoch 1/4000, Loss: 34.9171\n"
     ]
    },
    {
     "name": "stderr",
     "output_type": "stream",
     "text": [
      "/home/yahiko/code/cs158/grogginess-prediction/train.py:108: FutureWarning: In a future version of pandas, parsing datetimes with mixed time zones will raise an error unless `utc=True`. Please specify `utc=True` to opt in to the new behaviour and silence this warning. To create a `Series` with mixed offsets and `object` dtype, please use `apply` and `datetime.datetime.strptime`\n",
      "  data['date'] = pd.to_datetime(data['ISO8601'], errors='coerce')\n"
     ]
    },
    {
     "name": "stdout",
     "output_type": "stream",
     "text": [
      "Epoch 1001/4000, Loss: 1.7975\n",
      "Epoch 2001/4000, Loss: 1.7259\n",
      "Epoch 3001/4000, Loss: 1.6952\n",
      "Score: 0.017622947692871094 @ Day 24\n",
      "Processing day 25\n",
      "Epoch 1/4000, Loss: 35.0933\n"
     ]
    },
    {
     "name": "stderr",
     "output_type": "stream",
     "text": [
      "/home/yahiko/code/cs158/grogginess-prediction/train.py:108: FutureWarning: In a future version of pandas, parsing datetimes with mixed time zones will raise an error unless `utc=True`. Please specify `utc=True` to opt in to the new behaviour and silence this warning. To create a `Series` with mixed offsets and `object` dtype, please use `apply` and `datetime.datetime.strptime`\n",
      "  data['date'] = pd.to_datetime(data['ISO8601'], errors='coerce')\n"
     ]
    },
    {
     "name": "stdout",
     "output_type": "stream",
     "text": [
      "Epoch 1001/4000, Loss: 1.7332\n",
      "Epoch 2001/4000, Loss: 1.6648\n",
      "Epoch 3001/4000, Loss: 1.6348\n",
      "Score: 0.01314997673034668 @ Day 25\n",
      "Processing day 26\n",
      "Epoch 1/4000, Loss: 34.1766\n"
     ]
    },
    {
     "name": "stderr",
     "output_type": "stream",
     "text": [
      "/home/yahiko/code/cs158/grogginess-prediction/train.py:108: FutureWarning: In a future version of pandas, parsing datetimes with mixed time zones will raise an error unless `utc=True`. Please specify `utc=True` to opt in to the new behaviour and silence this warning. To create a `Series` with mixed offsets and `object` dtype, please use `apply` and `datetime.datetime.strptime`\n",
      "  data['date'] = pd.to_datetime(data['ISO8601'], errors='coerce')\n"
     ]
    },
    {
     "name": "stdout",
     "output_type": "stream",
     "text": [
      "Epoch 1001/4000, Loss: 1.7616\n",
      "Epoch 2001/4000, Loss: 1.6636\n",
      "Epoch 3001/4000, Loss: 1.6265\n",
      "Score: 0.0036458969116210938 @ Day 26\n",
      "Processing day 27\n",
      "Epoch 1/4000, Loss: 33.9336\n"
     ]
    },
    {
     "name": "stderr",
     "output_type": "stream",
     "text": [
      "/home/yahiko/code/cs158/grogginess-prediction/train.py:108: FutureWarning: In a future version of pandas, parsing datetimes with mixed time zones will raise an error unless `utc=True`. Please specify `utc=True` to opt in to the new behaviour and silence this warning. To create a `Series` with mixed offsets and `object` dtype, please use `apply` and `datetime.datetime.strptime`\n",
      "  data['date'] = pd.to_datetime(data['ISO8601'], errors='coerce')\n"
     ]
    },
    {
     "name": "stdout",
     "output_type": "stream",
     "text": [
      "Epoch 1001/4000, Loss: 1.7055\n",
      "Epoch 2001/4000, Loss: 1.6092\n",
      "Epoch 3001/4000, Loss: 1.5732\n",
      "Score: 0.019695281982421875 @ Day 27\n",
      "Processing day 28\n",
      "Epoch 1/4000, Loss: 34.1253\n"
     ]
    },
    {
     "name": "stderr",
     "output_type": "stream",
     "text": [
      "/home/yahiko/code/cs158/grogginess-prediction/train.py:108: FutureWarning: In a future version of pandas, parsing datetimes with mixed time zones will raise an error unless `utc=True`. Please specify `utc=True` to opt in to the new behaviour and silence this warning. To create a `Series` with mixed offsets and `object` dtype, please use `apply` and `datetime.datetime.strptime`\n",
      "  data['date'] = pd.to_datetime(data['ISO8601'], errors='coerce')\n"
     ]
    },
    {
     "name": "stdout",
     "output_type": "stream",
     "text": [
      "Epoch 1001/4000, Loss: 1.6527\n",
      "Epoch 2001/4000, Loss: 1.5595\n",
      "Epoch 3001/4000, Loss: 1.5238\n",
      "Score: 1.4991044998168945 @ Day 28\n",
      "Processing day 29\n",
      "Epoch 1/4000, Loss: 34.3395\n"
     ]
    },
    {
     "name": "stderr",
     "output_type": "stream",
     "text": [
      "/home/yahiko/code/cs158/grogginess-prediction/train.py:108: FutureWarning: In a future version of pandas, parsing datetimes with mixed time zones will raise an error unless `utc=True`. Please specify `utc=True` to opt in to the new behaviour and silence this warning. To create a `Series` with mixed offsets and `object` dtype, please use `apply` and `datetime.datetime.strptime`\n",
      "  data['date'] = pd.to_datetime(data['ISO8601'], errors='coerce')\n"
     ]
    },
    {
     "name": "stdout",
     "output_type": "stream",
     "text": [
      "Epoch 1001/4000, Loss: 1.6810\n",
      "Epoch 2001/4000, Loss: 1.6176\n",
      "Epoch 3001/4000, Loss: 1.5925\n",
      "Score: 0.0011196136474609375 @ Day 29\n",
      "Processing day 30\n",
      "Epoch 1/4000, Loss: 33.7831\n"
     ]
    },
    {
     "name": "stderr",
     "output_type": "stream",
     "text": [
      "/home/yahiko/code/cs158/grogginess-prediction/train.py:108: FutureWarning: In a future version of pandas, parsing datetimes with mixed time zones will raise an error unless `utc=True`. Please specify `utc=True` to opt in to the new behaviour and silence this warning. To create a `Series` with mixed offsets and `object` dtype, please use `apply` and `datetime.datetime.strptime`\n",
      "  data['date'] = pd.to_datetime(data['ISO8601'], errors='coerce')\n"
     ]
    },
    {
     "name": "stdout",
     "output_type": "stream",
     "text": [
      "Epoch 1001/4000, Loss: 1.6815\n",
      "Epoch 2001/4000, Loss: 1.6052\n",
      "Epoch 3001/4000, Loss: 1.5747\n",
      "Score: 0.35558605194091797 @ Day 30\n",
      "Processing day 31\n",
      "Epoch 1/4000, Loss: 33.9679\n"
     ]
    },
    {
     "name": "stderr",
     "output_type": "stream",
     "text": [
      "/home/yahiko/code/cs158/grogginess-prediction/train.py:108: FutureWarning: In a future version of pandas, parsing datetimes with mixed time zones will raise an error unless `utc=True`. Please specify `utc=True` to opt in to the new behaviour and silence this warning. To create a `Series` with mixed offsets and `object` dtype, please use `apply` and `datetime.datetime.strptime`\n",
      "  data['date'] = pd.to_datetime(data['ISO8601'], errors='coerce')\n"
     ]
    },
    {
     "name": "stdout",
     "output_type": "stream",
     "text": [
      "Epoch 1001/4000, Loss: 1.6380\n",
      "Epoch 2001/4000, Loss: 1.5645\n",
      "Epoch 3001/4000, Loss: 1.5353\n",
      "Score: 0.008620262145996094 @ Day 31\n",
      "Processing day 32\n",
      "Epoch 1/4000, Loss: 33.7767\n"
     ]
    },
    {
     "name": "stderr",
     "output_type": "stream",
     "text": [
      "/home/yahiko/code/cs158/grogginess-prediction/train.py:108: FutureWarning: In a future version of pandas, parsing datetimes with mixed time zones will raise an error unless `utc=True`. Please specify `utc=True` to opt in to the new behaviour and silence this warning. To create a `Series` with mixed offsets and `object` dtype, please use `apply` and `datetime.datetime.strptime`\n",
      "  data['date'] = pd.to_datetime(data['ISO8601'], errors='coerce')\n"
     ]
    },
    {
     "name": "stdout",
     "output_type": "stream",
     "text": [
      "Epoch 1001/4000, Loss: 1.6083\n",
      "Epoch 2001/4000, Loss: 1.5360\n",
      "Epoch 3001/4000, Loss: 1.5054\n",
      "Score: 4.192342758178711 @ Day 32\n",
      "Processing day 33\n",
      "Epoch 1/4000, Loss: 35.3917\n"
     ]
    },
    {
     "name": "stderr",
     "output_type": "stream",
     "text": [
      "/home/yahiko/code/cs158/grogginess-prediction/train.py:108: FutureWarning: In a future version of pandas, parsing datetimes with mixed time zones will raise an error unless `utc=True`. Please specify `utc=True` to opt in to the new behaviour and silence this warning. To create a `Series` with mixed offsets and `object` dtype, please use `apply` and `datetime.datetime.strptime`\n",
      "  data['date'] = pd.to_datetime(data['ISO8601'], errors='coerce')\n"
     ]
    },
    {
     "name": "stdout",
     "output_type": "stream",
     "text": [
      "Epoch 1001/4000, Loss: 3.7867\n",
      "Epoch 2001/4000, Loss: 3.4948\n",
      "Epoch 3001/4000, Loss: 3.0793\n",
      "Score: 0.021549701690673828 @ Day 33\n",
      "Processing day 34\n",
      "Epoch 1/4000, Loss: 34.9048\n"
     ]
    },
    {
     "name": "stderr",
     "output_type": "stream",
     "text": [
      "/home/yahiko/code/cs158/grogginess-prediction/train.py:108: FutureWarning: In a future version of pandas, parsing datetimes with mixed time zones will raise an error unless `utc=True`. Please specify `utc=True` to opt in to the new behaviour and silence this warning. To create a `Series` with mixed offsets and `object` dtype, please use `apply` and `datetime.datetime.strptime`\n",
      "  data['date'] = pd.to_datetime(data['ISO8601'], errors='coerce')\n"
     ]
    },
    {
     "name": "stdout",
     "output_type": "stream",
     "text": [
      "Epoch 1001/4000, Loss: 2.4783\n",
      "Epoch 2001/4000, Loss: 2.5607\n",
      "Epoch 3001/4000, Loss: 2.8500\n",
      "Score: 0.00875234603881836 @ Day 34\n",
      "Processing day 35\n",
      "Epoch 1/4000, Loss: 34.7182\n"
     ]
    },
    {
     "name": "stderr",
     "output_type": "stream",
     "text": [
      "/home/yahiko/code/cs158/grogginess-prediction/train.py:108: FutureWarning: In a future version of pandas, parsing datetimes with mixed time zones will raise an error unless `utc=True`. Please specify `utc=True` to opt in to the new behaviour and silence this warning. To create a `Series` with mixed offsets and `object` dtype, please use `apply` and `datetime.datetime.strptime`\n",
      "  data['date'] = pd.to_datetime(data['ISO8601'], errors='coerce')\n"
     ]
    },
    {
     "name": "stdout",
     "output_type": "stream",
     "text": [
      "Epoch 1001/4000, Loss: 2.1626\n",
      "Epoch 2001/4000, Loss: 2.2015\n",
      "Epoch 3001/4000, Loss: 2.3852\n",
      "Score: 0.020160675048828125 @ Day 35\n",
      "Processing day 36\n",
      "Epoch 1/4000, Loss: 34.5520\n"
     ]
    },
    {
     "name": "stderr",
     "output_type": "stream",
     "text": [
      "/home/yahiko/code/cs158/grogginess-prediction/train.py:108: FutureWarning: In a future version of pandas, parsing datetimes with mixed time zones will raise an error unless `utc=True`. Please specify `utc=True` to opt in to the new behaviour and silence this warning. To create a `Series` with mixed offsets and `object` dtype, please use `apply` and `datetime.datetime.strptime`\n",
      "  data['date'] = pd.to_datetime(data['ISO8601'], errors='coerce')\n"
     ]
    },
    {
     "name": "stdout",
     "output_type": "stream",
     "text": [
      "Epoch 1001/4000, Loss: 2.0573\n",
      "Epoch 2001/4000, Loss: 2.0976\n",
      "Epoch 3001/4000, Loss: 2.1632\n",
      "Score: 0.012195110321044922 @ Day 36\n",
      "Processing day 37\n",
      "Epoch 1/4000, Loss: 34.3871\n"
     ]
    },
    {
     "name": "stderr",
     "output_type": "stream",
     "text": [
      "/home/yahiko/code/cs158/grogginess-prediction/train.py:108: FutureWarning: In a future version of pandas, parsing datetimes with mixed time zones will raise an error unless `utc=True`. Please specify `utc=True` to opt in to the new behaviour and silence this warning. To create a `Series` with mixed offsets and `object` dtype, please use `apply` and `datetime.datetime.strptime`\n",
      "  data['date'] = pd.to_datetime(data['ISO8601'], errors='coerce')\n"
     ]
    },
    {
     "name": "stdout",
     "output_type": "stream",
     "text": [
      "Epoch 1001/4000, Loss: 1.9590\n",
      "Epoch 2001/4000, Loss: 1.9900\n",
      "Epoch 3001/4000, Loss: 2.0490\n",
      "Score: 0.014684200286865234 @ Day 37\n",
      "Processing day 38\n",
      "Epoch 1/4000, Loss: 34.2099\n"
     ]
    },
    {
     "name": "stderr",
     "output_type": "stream",
     "text": [
      "/home/yahiko/code/cs158/grogginess-prediction/train.py:108: FutureWarning: In a future version of pandas, parsing datetimes with mixed time zones will raise an error unless `utc=True`. Please specify `utc=True` to opt in to the new behaviour and silence this warning. To create a `Series` with mixed offsets and `object` dtype, please use `apply` and `datetime.datetime.strptime`\n",
      "  data['date'] = pd.to_datetime(data['ISO8601'], errors='coerce')\n"
     ]
    },
    {
     "name": "stdout",
     "output_type": "stream",
     "text": [
      "Epoch 1001/4000, Loss: 1.8899\n",
      "Epoch 2001/4000, Loss: 1.9136\n",
      "Epoch 3001/4000, Loss: 1.9493\n",
      "Score: 0.0022287368774414062 @ Day 38\n",
      "Processing day 39\n",
      "Epoch 1/4000, Loss: 33.8047\n"
     ]
    },
    {
     "name": "stderr",
     "output_type": "stream",
     "text": [
      "/home/yahiko/code/cs158/grogginess-prediction/train.py:108: FutureWarning: In a future version of pandas, parsing datetimes with mixed time zones will raise an error unless `utc=True`. Please specify `utc=True` to opt in to the new behaviour and silence this warning. To create a `Series` with mixed offsets and `object` dtype, please use `apply` and `datetime.datetime.strptime`\n",
      "  data['date'] = pd.to_datetime(data['ISO8601'], errors='coerce')\n"
     ]
    },
    {
     "name": "stdout",
     "output_type": "stream",
     "text": [
      "Epoch 1001/4000, Loss: 1.8876\n",
      "Epoch 2001/4000, Loss: 1.9170\n",
      "Epoch 3001/4000, Loss: 1.9484\n",
      "Score: 0.048386573791503906 @ Day 39\n",
      "Processing day 40\n",
      "Epoch 1/4000, Loss: 33.6617\n"
     ]
    },
    {
     "name": "stderr",
     "output_type": "stream",
     "text": [
      "/home/yahiko/code/cs158/grogginess-prediction/train.py:108: FutureWarning: In a future version of pandas, parsing datetimes with mixed time zones will raise an error unless `utc=True`. Please specify `utc=True` to opt in to the new behaviour and silence this warning. To create a `Series` with mixed offsets and `object` dtype, please use `apply` and `datetime.datetime.strptime`\n",
      "  data['date'] = pd.to_datetime(data['ISO8601'], errors='coerce')\n"
     ]
    },
    {
     "name": "stdout",
     "output_type": "stream",
     "text": [
      "Epoch 1001/4000, Loss: 1.8339\n",
      "Epoch 2001/4000, Loss: 1.8510\n",
      "Epoch 3001/4000, Loss: 1.8688\n",
      "Score: 0.0051958560943603516 @ Day 40\n",
      "Processing day 41\n",
      "Epoch 1/4000, Loss: 32.9702\n"
     ]
    },
    {
     "name": "stderr",
     "output_type": "stream",
     "text": [
      "/home/yahiko/code/cs158/grogginess-prediction/train.py:108: FutureWarning: In a future version of pandas, parsing datetimes with mixed time zones will raise an error unless `utc=True`. Please specify `utc=True` to opt in to the new behaviour and silence this warning. To create a `Series` with mixed offsets and `object` dtype, please use `apply` and `datetime.datetime.strptime`\n",
      "  data['date'] = pd.to_datetime(data['ISO8601'], errors='coerce')\n"
     ]
    },
    {
     "name": "stdout",
     "output_type": "stream",
     "text": [
      "Epoch 1001/4000, Loss: 1.8748\n",
      "Epoch 2001/4000, Loss: 1.9105\n",
      "Epoch 3001/4000, Loss: 1.9459\n",
      "Score: 1.3854432106018066 @ Day 41\n",
      "Processing day 42\n",
      "Epoch 1/4000, Loss: 33.4446\n"
     ]
    },
    {
     "name": "stderr",
     "output_type": "stream",
     "text": [
      "/home/yahiko/code/cs158/grogginess-prediction/train.py:108: FutureWarning: In a future version of pandas, parsing datetimes with mixed time zones will raise an error unless `utc=True`. Please specify `utc=True` to opt in to the new behaviour and silence this warning. To create a `Series` with mixed offsets and `object` dtype, please use `apply` and `datetime.datetime.strptime`\n",
      "  data['date'] = pd.to_datetime(data['ISO8601'], errors='coerce')\n"
     ]
    },
    {
     "name": "stdout",
     "output_type": "stream",
     "text": [
      "Epoch 1001/4000, Loss: 1.8608\n",
      "Epoch 2001/4000, Loss: 1.8673\n",
      "Epoch 3001/4000, Loss: 1.8851\n",
      "Score: 0.009601116180419922 @ Day 42\n",
      "Processing day 43\n",
      "Epoch 1/4000, Loss: 32.9309\n"
     ]
    },
    {
     "name": "stderr",
     "output_type": "stream",
     "text": [
      "/home/yahiko/code/cs158/grogginess-prediction/train.py:108: FutureWarning: In a future version of pandas, parsing datetimes with mixed time zones will raise an error unless `utc=True`. Please specify `utc=True` to opt in to the new behaviour and silence this warning. To create a `Series` with mixed offsets and `object` dtype, please use `apply` and `datetime.datetime.strptime`\n",
      "  data['date'] = pd.to_datetime(data['ISO8601'], errors='coerce')\n"
     ]
    },
    {
     "name": "stdout",
     "output_type": "stream",
     "text": [
      "Epoch 1001/4000, Loss: 1.8466\n",
      "Epoch 2001/4000, Loss: 1.8362\n",
      "Epoch 3001/4000, Loss: 1.8592\n",
      "Score: 0.007437705993652344 @ Day 43\n",
      "Processing day 44\n",
      "Epoch 1/4000, Loss: 32.2974\n"
     ]
    },
    {
     "name": "stderr",
     "output_type": "stream",
     "text": [
      "/home/yahiko/code/cs158/grogginess-prediction/train.py:108: FutureWarning: In a future version of pandas, parsing datetimes with mixed time zones will raise an error unless `utc=True`. Please specify `utc=True` to opt in to the new behaviour and silence this warning. To create a `Series` with mixed offsets and `object` dtype, please use `apply` and `datetime.datetime.strptime`\n",
      "  data['date'] = pd.to_datetime(data['ISO8601'], errors='coerce')\n"
     ]
    },
    {
     "name": "stdout",
     "output_type": "stream",
     "text": [
      "Epoch 1001/4000, Loss: 2.0231\n",
      "Epoch 2001/4000, Loss: 2.0408\n",
      "Epoch 3001/4000, Loss: 2.0409\n",
      "Score: 0.011177539825439453 @ Day 44\n",
      "Processing day 45\n",
      "Epoch 1/4000, Loss: 32.4500\n"
     ]
    },
    {
     "name": "stderr",
     "output_type": "stream",
     "text": [
      "/home/yahiko/code/cs158/grogginess-prediction/train.py:108: FutureWarning: In a future version of pandas, parsing datetimes with mixed time zones will raise an error unless `utc=True`. Please specify `utc=True` to opt in to the new behaviour and silence this warning. To create a `Series` with mixed offsets and `object` dtype, please use `apply` and `datetime.datetime.strptime`\n",
      "  data['date'] = pd.to_datetime(data['ISO8601'], errors='coerce')\n"
     ]
    },
    {
     "name": "stdout",
     "output_type": "stream",
     "text": [
      "Epoch 1001/4000, Loss: 1.9765\n",
      "Epoch 2001/4000, Loss: 1.9856\n",
      "Epoch 3001/4000, Loss: 1.9819\n",
      "Score: 1.0641579627990723 @ Day 45\n",
      "Processing day 46\n",
      "Epoch 1/4000, Loss: 32.8942\n"
     ]
    },
    {
     "name": "stderr",
     "output_type": "stream",
     "text": [
      "/home/yahiko/code/cs158/grogginess-prediction/train.py:108: FutureWarning: In a future version of pandas, parsing datetimes with mixed time zones will raise an error unless `utc=True`. Please specify `utc=True` to opt in to the new behaviour and silence this warning. To create a `Series` with mixed offsets and `object` dtype, please use `apply` and `datetime.datetime.strptime`\n",
      "  data['date'] = pd.to_datetime(data['ISO8601'], errors='coerce')\n"
     ]
    },
    {
     "name": "stdout",
     "output_type": "stream",
     "text": [
      "Epoch 1001/4000, Loss: 1.9562\n",
      "Epoch 2001/4000, Loss: 1.9548\n",
      "Epoch 3001/4000, Loss: 1.9388\n",
      "Score: 0.004532814025878906 @ Day 46\n",
      "Processing day 47\n",
      "Epoch 1/4000, Loss: 32.4297\n"
     ]
    },
    {
     "name": "stderr",
     "output_type": "stream",
     "text": [
      "/home/yahiko/code/cs158/grogginess-prediction/train.py:108: FutureWarning: In a future version of pandas, parsing datetimes with mixed time zones will raise an error unless `utc=True`. Please specify `utc=True` to opt in to the new behaviour and silence this warning. To create a `Series` with mixed offsets and `object` dtype, please use `apply` and `datetime.datetime.strptime`\n",
      "  data['date'] = pd.to_datetime(data['ISO8601'], errors='coerce')\n"
     ]
    },
    {
     "name": "stdout",
     "output_type": "stream",
     "text": [
      "Epoch 1001/4000, Loss: 1.9879\n",
      "Epoch 2001/4000, Loss: 1.9753\n",
      "Epoch 3001/4000, Loss: 1.9531\n",
      "Score: 0.7075395584106445 @ Day 47\n",
      "Processing day 48\n",
      "Epoch 1/4000, Loss: 32.5595\n"
     ]
    },
    {
     "name": "stderr",
     "output_type": "stream",
     "text": [
      "/home/yahiko/code/cs158/grogginess-prediction/train.py:108: FutureWarning: In a future version of pandas, parsing datetimes with mixed time zones will raise an error unless `utc=True`. Please specify `utc=True` to opt in to the new behaviour and silence this warning. To create a `Series` with mixed offsets and `object` dtype, please use `apply` and `datetime.datetime.strptime`\n",
      "  data['date'] = pd.to_datetime(data['ISO8601'], errors='coerce')\n"
     ]
    },
    {
     "name": "stdout",
     "output_type": "stream",
     "text": [
      "Epoch 1001/4000, Loss: 1.9797\n",
      "Epoch 2001/4000, Loss: 1.9645\n",
      "Epoch 3001/4000, Loss: 1.9379\n",
      "Score: 0.009931087493896484 @ Day 48\n",
      "Processing day 49\n",
      "Epoch 1/4000, Loss: 32.6877\n"
     ]
    },
    {
     "name": "stderr",
     "output_type": "stream",
     "text": [
      "/home/yahiko/code/cs158/grogginess-prediction/train.py:108: FutureWarning: In a future version of pandas, parsing datetimes with mixed time zones will raise an error unless `utc=True`. Please specify `utc=True` to opt in to the new behaviour and silence this warning. To create a `Series` with mixed offsets and `object` dtype, please use `apply` and `datetime.datetime.strptime`\n",
      "  data['date'] = pd.to_datetime(data['ISO8601'], errors='coerce')\n"
     ]
    },
    {
     "name": "stdout",
     "output_type": "stream",
     "text": [
      "Epoch 1001/4000, Loss: 1.9445\n",
      "Epoch 2001/4000, Loss: 1.9277\n",
      "Epoch 3001/4000, Loss: 1.9002\n",
      "Score: 0.05143117904663086 @ Day 49\n",
      "Processing day 50\n",
      "Epoch 1/4000, Loss: 32.8006\n"
     ]
    },
    {
     "name": "stderr",
     "output_type": "stream",
     "text": [
      "/home/yahiko/code/cs158/grogginess-prediction/train.py:108: FutureWarning: In a future version of pandas, parsing datetimes with mixed time zones will raise an error unless `utc=True`. Please specify `utc=True` to opt in to the new behaviour and silence this warning. To create a `Series` with mixed offsets and `object` dtype, please use `apply` and `datetime.datetime.strptime`\n",
      "  data['date'] = pd.to_datetime(data['ISO8601'], errors='coerce')\n"
     ]
    },
    {
     "name": "stdout",
     "output_type": "stream",
     "text": [
      "Epoch 1001/4000, Loss: 1.9131\n",
      "Epoch 2001/4000, Loss: 1.8911\n",
      "Epoch 3001/4000, Loss: 1.8606\n",
      "Score: 0.47208499908447266 @ Day 50\n"
     ]
    }
   ],
   "source": [
    "person = 'Mark'\n",
    "losses, scores = [], []\n",
    "dayrange = range(15, days[person])\n",
    "features = ['sleepBPM', 'wakingBPM',\n",
    "                                 'inBed_minutes', 'is_weekend', 'num_alarms',\n",
    "                                   'phone_before_bed']\n",
    "for i in dayrange:\n",
    "  print(f'Processing day {i}')\n",
    "    \n",
    "  model, test_loader = main(person, split_point=i, features=features)\n",
    "  loss, score = eval(test_loader, current_index=i, person=person, input_size=len(features))\n",
    "  losses.append(loss)\n",
    "  scores.append(score)\n"
   ]
  },
  {
   "cell_type": "code",
   "execution_count": 12,
   "metadata": {},
   "outputs": [
    {
     "data": {
      "image/png": "[encoded data removed]",
      "text/plain": [
       "<Figure size 640x480 with 2 Axes>"
      ]
     },
     "metadata": {},
     "output_type": "display_data"
    }
   ],
   "source": [
    "fig, ax1 = plt.subplots()\n",
    "dayrange = range(15, days[person])\n",
    "\n",
    "\n",
    "# Set the color for the first y-axis\n",
    "color = 'tab:red'\n",
    "ax1.set_xlabel('Days of Data')\n",
    "ax1.set_ylabel('Validation Loss', color=color)\n",
    "ax1.plot(list(dayrange), losses, marker='o', linestyle='-', color=color)\n",
    "ax1.tick_params(axis='y', labelcolor=color)\n",
    "\n",
    "# Create a second y-axis that shares the same x-axis\n",
    "ax2 = ax1.twinx()\n",
    "color = 'tab:blue'\n",
    "ax2.set_ylabel('Prediction Accuracy', color=color)\n",
    "ax2.plot(list(dayrange), scores, marker='x', linestyle='-', color=color)\n",
    "ax2.tick_params(axis='y', labelcolor=color)\n",
    "\n",
    "# Ensure layout is tight so there's no overlap\n",
    "fig.tight_layout()\n",
    "\n",
    "plt.title(f'Model Performance and Prediction Accuracy by Number of Features - {person}')\n",
    "plt.show()"
   ]
  }
 ],
 "metadata": {
  "kernelspec": {
   "display_name": "base",
   "language": "python",
   "name": "python3"
  },
  "language_info": {
   "codemirror_mode": {
    "name": "ipython",
    "version": 3
   },
   "file_extension": ".py",
   "mimetype": "text/x-python",
   "name": "python",
   "nbconvert_exporter": "python",
   "pygments_lexer": "ipython3",
   "version": "3.11.5"
  }
 },
 "nbformat": 4,
 "nbformat_minor": 2
}
